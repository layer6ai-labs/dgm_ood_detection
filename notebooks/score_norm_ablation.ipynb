{
 "cells": [
  {
   "cell_type": "markdown",
   "metadata": {},
   "source": [
    "# Generating the AUC tables\n",
    "\n"
   ]
  },
  {
   "cell_type": "code",
   "execution_count": 3,
   "metadata": {},
   "outputs": [
    {
     "name": "stdout",
     "output_type": "stream",
     "text": [
      "The autoreload extension is already loaded. To reload it, use:\n",
      "  %reload_ext autoreload\n"
     ]
    },
    {
     "name": "stderr",
     "output_type": "stream",
     "text": [
      "1/6:   0%|          | 0/4 [00:00<?, ?it/s]"
     ]
    },
    {
     "name": "stderr",
     "output_type": "stream",
     "text": [
      "5/6: 100%|██████████| 4/4 [00:08<00:00,  2.07s/it]\n"
     ]
    }
   ],
   "source": [
    "%load_ext autoreload\n",
    "\n",
    "%autoreload 2\n",
    "from utils import parse_table, read_csv\n",
    "import pandas as pd\n",
    "import numpy as np\n",
    "\n",
    "from pretty import plot_kde, ColorTheme\n",
    "\n",
    "df = read_csv('score-norm_vs_likelihood.csv')\n",
    "all_tasks = parse_table(df)\n",
    "\n"
   ]
  },
  {
   "cell_type": "code",
   "execution_count": 8,
   "metadata": {},
   "outputs": [],
   "source": [
    "\n",
    "def get_scatter(in_distr, ood, all_tasks, metric='score-norm'): \n",
    "    global likelihood_in, metric_in\n",
    "    global likelihood_ood, metric_ood\n",
    "    in_vs_out = all_tasks[in_distr][ood]\n",
    "    likelihood_in = in_vs_out[in_vs_out['name'] == 'test']['log-likelihood'].values\n",
    "    metric_in = in_vs_out[in_vs_out['name'] == 'test'][metric].values\n",
    "    likelihood_ood = in_vs_out[in_vs_out['name'] == 'ood']['log-likelihood'].values\n",
    "    metric_ood = in_vs_out[in_vs_out['name'] == 'ood'][metric].values\n"
   ]
  },
  {
   "cell_type": "code",
   "execution_count": 5,
   "metadata": {},
   "outputs": [
    {
     "name": "stdout",
     "output_type": "stream",
     "text": [
      "----\n",
      "mnist fashion-mnist\n",
      "Naive AUC 0.9192435443401337\n",
      "Dual threshold AUC 0.996117502450943\n",
      "----\n",
      "mnist omniglot\n",
      "Naive AUC 0.004457212582663374\n",
      "Dual threshold AUC 0.9989175123792466\n",
      "----\n",
      "fashion-mnist mnist\n",
      "Naive AUC 0.07481348514556885\n",
      "Dual threshold AUC 0.23966631293296814\n",
      "----\n",
      "fashion-mnist omniglot\n",
      "Naive AUC 0.0005937631694113064\n",
      "Dual threshold AUC 0.9489644157441326\n",
      "----\n",
      "cifar10 svhn\n",
      "Naive AUC 0.8826910257339478\n",
      "Dual threshold AUC 0.8826910257339478\n",
      "----\n",
      "cifar10 celeba-small\n",
      "Naive AUC 0.7158326221113441\n",
      "Dual threshold AUC 0.7158326221113441\n",
      "----\n",
      "svhn cifar10\n",
      "Naive AUC 0.11981871724128723\n",
      "Dual threshold AUC 0.9942491352558136\n",
      "----\n",
      "svhn celeba-small\n",
      "Naive AUC 0.14480872915572474\n",
      "Dual threshold AUC 0.9883386948529411\n"
     ]
    }
   ],
   "source": [
    "from roc_analysis import get_roc_graph, get_convex_hull, get_auc\n",
    "from tqdm import tqdm\n",
    "\n",
    "pairs = [\n",
    "    ('mnist', 'fashion-mnist'),\n",
    "    ('mnist', 'omniglot'),\n",
    "    ('fashion-mnist', 'mnist'),\n",
    "    ('fashion-mnist', 'omniglot'),\n",
    "    ('cifar10', 'svhn'),\n",
    "    ('cifar10', 'celeba-small'),\n",
    "    ('svhn', 'cifar10'),\n",
    "    ('svhn', 'celeba-small'),\n",
    "]\n",
    "\n",
    "for in_distr, ood in pairs:\n",
    "    print(\"----\")\n",
    "    print(in_distr, ood)\n",
    "    np.random.seed(111)\n",
    "    get_scatter(in_distr, ood, all_tasks)\n",
    "    x_naive, y_naive = get_roc_graph(\n",
    "        pos_x = metric_in,\n",
    "        neg_x = metric_ood,\n",
    "        verbose=0,\n",
    "    )\n",
    "    x_curve, y_curve = get_convex_hull(x_naive, y_naive)\n",
    "    naive_auc = get_auc(x_curve, y_curve)\n",
    "    print(\"Naive AUC\", naive_auc)\n",
    "    \n",
    "    x_ours, y_ours = get_roc_graph(\n",
    "        pos_x = likelihood_in,\n",
    "        pos_y = metric_in,\n",
    "        neg_x = likelihood_ood,\n",
    "        neg_y = metric_ood,\n",
    "        compute_limit=10000,\n",
    "        verbose=0,\n",
    "    )\n",
    "    x_curve, y_curve = get_convex_hull(x_ours, y_ours)\n",
    "    our_auc = max(naive_auc, get_auc(x_curve, y_curve))\n",
    "    print(\"Dual threshold AUC\", our_auc)"
   ]
  },
  {
   "cell_type": "code",
   "execution_count": 6,
   "metadata": {},
   "outputs": [
    {
     "name": "stderr",
     "output_type": "stream",
     "text": [
      "3/5: 100%|██████████| 4/4 [00:07<00:00,  1.90s/it]\n",
      "5/7: 100%|██████████| 5/5 [00:17<00:00,  3.53s/it]\n"
     ]
    }
   ],
   "source": [
    "\n",
    "df = read_csv('grayscale_LID_vs_likelihood_flow_lpca_medium_scale.csv')\n",
    "all_tasks = parse_table(df)\n",
    "df = read_csv('rgb_LID_vs_likelihood_flow_lpca_medium_scale.csv')\n",
    "all_tasks_ = parse_table(df)\n",
    "for key in all_tasks_:\n",
    "    all_tasks[key] = all_tasks_[key]\n"
   ]
  },
  {
   "cell_type": "code",
   "execution_count": 10,
   "metadata": {},
   "outputs": [
    {
     "name": "stderr",
     "output_type": "stream",
     "text": [
      "3/5: 100%|██████████| 4/4 [00:07<00:00,  1.88s/it]\n",
      "5/7: 100%|██████████| 5/5 [00:34<00:00,  6.91s/it]\n"
     ]
    }
   ],
   "source": [
    "\n",
    "df = read_csv('grayscale_LID_vs_likelihood_diffusion_lpca.csv')\n",
    "all_tasks = parse_table(df)\n",
    "df = read_csv('rgb_LID_vs_likelihood_diffusion_lpca.csv')\n",
    "all_tasks_ = parse_table(df)\n",
    "for key in all_tasks_:\n",
    "    all_tasks[key] = all_tasks_[key]\n"
   ]
  },
  {
   "cell_type": "code",
   "execution_count": 11,
   "metadata": {},
   "outputs": [
    {
     "name": "stdout",
     "output_type": "stream",
     "text": [
      "----\n",
      "mnist fashion-mnist\n",
      "Naive AUC 0.004191070795059204\n",
      "Dual threshold AUC 0.9959636330604553\n",
      "----\n",
      "mnist omniglot\n",
      "Naive AUC 0.0004468735817557038\n",
      "Dual threshold AUC 0.9993341849552645\n",
      "----\n",
      "fashion-mnist mnist\n",
      "Naive AUC 0.8523643910884857\n",
      "Dual threshold AUC 0.8523643910884857\n",
      "----\n",
      "fashion-mnist omniglot\n",
      "Naive AUC 0.1655849599244684\n",
      "Dual threshold AUC 0.9581770520981907\n",
      "----\n",
      "cifar10 svhn\n",
      "Naive AUC 0.9461166050000005\n",
      "Dual threshold AUC 0.9461166050000005\n",
      "----\n",
      "cifar10 celeba-small\n",
      "Naive AUC 0.6528089285714285\n",
      "Dual threshold AUC 0.6528089285714285\n",
      "----\n",
      "svhn cifar10\n",
      "Naive AUC 0.005385062499999995\n",
      "Dual threshold AUC 0.9955338300000001\n",
      "----\n",
      "svhn celeba-small\n",
      "Naive AUC 0.004131512605042014\n",
      "Dual threshold AUC 0.995751155462185\n"
     ]
    }
   ],
   "source": [
    "from roc_analysis import get_roc_graph, get_convex_hull, get_auc\n",
    "from tqdm import tqdm\n",
    "\n",
    "pairs = [\n",
    "    ('mnist', 'fashion-mnist'),\n",
    "    ('mnist', 'omniglot'),\n",
    "    ('fashion-mnist', 'mnist'),\n",
    "    ('fashion-mnist', 'omniglot'),\n",
    "    ('cifar10', 'svhn'),\n",
    "    ('cifar10', 'celeba-small'),\n",
    "    ('svhn', 'cifar10'),\n",
    "    ('svhn', 'celeba-small'),\n",
    "]\n",
    "\n",
    "for in_distr, ood in pairs:\n",
    "    print(\"----\")\n",
    "    print(in_distr, ood)\n",
    "    np.random.seed(111)\n",
    "    get_scatter(in_distr, ood, all_tasks, metric='LID')\n",
    "    x_naive, y_naive = get_roc_graph(\n",
    "        pos_x = metric_in,\n",
    "        neg_x = metric_ood,\n",
    "        verbose=0,\n",
    "    )\n",
    "    x_curve, y_curve = get_convex_hull(x_naive, y_naive)\n",
    "    naive_auc = get_auc(x_curve, y_curve)\n",
    "    print(\"Naive AUC\", naive_auc)\n",
    "    \n",
    "    x_ours, y_ours = get_roc_graph(\n",
    "        pos_x = likelihood_in,\n",
    "        pos_y = metric_in,\n",
    "        neg_x = likelihood_ood,\n",
    "        neg_y = metric_ood,\n",
    "        compute_limit=10000,\n",
    "        verbose=0,\n",
    "    )\n",
    "    x_curve, y_curve = get_convex_hull(x_ours, y_ours)\n",
    "    our_auc = max(naive_auc, get_auc(x_curve, y_curve))\n",
    "    print(\"Dual threshold AUC\", our_auc)"
   ]
  },
  {
   "cell_type": "code",
   "execution_count": null,
   "metadata": {},
   "outputs": [],
   "source": []
  }
 ],
 "metadata": {
  "kernelspec": {
   "display_name": "ood-detection",
   "language": "python",
   "name": "python3"
  },
  "language_info": {
   "codemirror_mode": {
    "name": "ipython",
    "version": 3
   },
   "file_extension": ".py",
   "mimetype": "text/x-python",
   "name": "python",
   "nbconvert_exporter": "python",
   "pygments_lexer": "ipython3",
   "version": "3.11.7"
  }
 },
 "nbformat": 4,
 "nbformat_minor": 2
}
