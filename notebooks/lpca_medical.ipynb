{
 "cells": [
  {
   "cell_type": "code",
   "execution_count": 1,
   "metadata": {},
   "outputs": [
    {
     "name": "stdout",
     "output_type": "stream",
     "text": [
      "Using downloaded and verified file: data/organsmnist.npz\n",
      "Using downloaded and verified file: data/organcmnist.npz\n",
      "Using downloaded and verified file: data/organamnist.npz\n",
      "Using downloaded and verified file: data/chestmnist.npz\n",
      "Using downloaded and verified file: data/chestmnist.npz\n",
      "Using downloaded and verified file: data/pneumoniamnist.npz\n"
     ]
    }
   ],
   "source": [
    "import sys\n",
    "sys.path.append('..')\n",
    "from model_zoo.datasets.image import MedMNIST\n",
    "\n",
    "\n",
    "organ_s = MedMNIST(root='data', role='train', subclass='OrganSMNIST',  valid_fraction=0.0)\n",
    "organ_c = MedMNIST(root='data', role='train', subclass='OrganCMNIST',  valid_fraction=0.0)\n",
    "organ_a = MedMNIST(root='data', role='train', subclass='OrganAMNIST',  valid_fraction=0.0)\n",
    "chest_aligned = MedMNIST(root='data', role='train', subclass='ChestMNIST', align=True, valid_fraction=0.0)\n",
    "chest_normal = MedMNIST(root='data', role='train', subclass='ChestMNIST', align=False,  valid_fraction=0.0)\n",
    "pneumonia = MedMNIST(root='data', role='train', subclass='PneumoniaMNIST',  valid_fraction=0.0)\n"
   ]
  },
  {
   "cell_type": "code",
   "execution_count": 4,
   "metadata": {},
   "outputs": [
    {
     "name": "stdout",
     "output_type": "stream",
     "text": [
      "Collecting scikit-dimension\n",
      "  Using cached scikit_dimension-0.3.4-py3-none-any.whl.metadata (1.3 kB)\n",
      "Requirement already satisfied: numpy in /home/hamid/.local/lib/python3.10/site-packages (from scikit-dimension) (1.26.4)\n",
      "Collecting numba (from scikit-dimension)\n",
      "  Downloading numba-0.59.1-cp310-cp310-manylinux2014_x86_64.manylinux_2_17_x86_64.whl.metadata (2.7 kB)\n",
      "Requirement already satisfied: scipy in /home/hamid/.local/lib/python3.10/site-packages (from scikit-dimension) (1.12.0)\n",
      "Requirement already satisfied: scikit-learn in /home/hamid/.local/lib/python3.10/site-packages (from scikit-dimension) (1.3.2)\n",
      "Collecting llvmlite<0.43,>=0.42.0dev0 (from numba->scikit-dimension)\n",
      "  Using cached llvmlite-0.42.0-cp310-cp310-manylinux_2_17_x86_64.manylinux2014_x86_64.whl.metadata (4.8 kB)\n",
      "Requirement already satisfied: joblib>=1.1.1 in /home/hamid/.local/lib/python3.10/site-packages (from scikit-learn->scikit-dimension) (1.3.2)\n",
      "Requirement already satisfied: threadpoolctl>=2.0.0 in /home/hamid/.local/lib/python3.10/site-packages (from scikit-learn->scikit-dimension) (3.2.0)\n",
      "Using cached scikit_dimension-0.3.4-py3-none-any.whl (66 kB)\n",
      "Downloading numba-0.59.1-cp310-cp310-manylinux2014_x86_64.manylinux_2_17_x86_64.whl (3.7 MB)\n",
      "\u001b[2K   \u001b[90m━━━━━━━━━━━━━━━━━━━━━━━━━━━━━━━━━━━━━━━━\u001b[0m \u001b[32m3.7/3.7 MB\u001b[0m \u001b[31m21.6 MB/s\u001b[0m eta \u001b[36m0:00:00\u001b[0m00:01\u001b[0m00:01\u001b[0m\n",
      "\u001b[?25hUsing cached llvmlite-0.42.0-cp310-cp310-manylinux_2_17_x86_64.manylinux2014_x86_64.whl (43.8 MB)\n",
      "Installing collected packages: llvmlite, numba, scikit-dimension\n",
      "Successfully installed llvmlite-0.42.0 numba-0.59.1 scikit-dimension-0.3.4\n"
     ]
    }
   ],
   "source": [
    "!pip install scikit-dimension"
   ]
  },
  {
   "cell_type": "code",
   "execution_count": 5,
   "metadata": {},
   "outputs": [
    {
     "name": "stdout",
     "output_type": "stream",
     "text": [
      "organ_s: 224\n",
      "organ_c: 267\n",
      "organ_a: 239\n",
      "chest_aligned: 64\n",
      "chest_normal: 90\n",
      "pneumonia: 98\n"
     ]
    }
   ],
   "source": [
    "import skdim\n",
    "all_data = {\n",
    "    'organ_s': organ_s.x.cpu().float().numpy().reshape(-1, 28 * 28),\n",
    "    'organ_c': organ_c.x.cpu().float().numpy().reshape(-1, 28 * 28),\n",
    "    'organ_a': organ_a.x.cpu().float().numpy().reshape(-1, 28 * 28),\n",
    "    'chest_aligned': chest_aligned.x.cpu().float().numpy().reshape(-1, 28 * 28),\n",
    "    'chest_normal': chest_normal.x.cpu().float().numpy().reshape(-1, 28 * 28),\n",
    "    'pneumonia': pneumonia.x.cpu().float().numpy().reshape(-1, 28 * 28)\n",
    "}\n",
    "\n",
    "for key, data in all_data.items():\n",
    "    # train a scikidim LPCA model on the data\n",
    "    \n",
    "    lpca_estimator = skdim.id.lPCA(alphaFO=0.001)\n",
    "    lpca_estimator.fit(data)\n",
    "    print(f\"{key}: {lpca_estimator.dimension_}\")\n",
    "    \n",
    "    "
   ]
  },
  {
   "cell_type": "code",
   "execution_count": null,
   "metadata": {},
   "outputs": [],
   "source": []
  }
 ],
 "metadata": {
  "kernelspec": {
   "display_name": "ood-detection",
   "language": "python",
   "name": "python3"
  },
  "language_info": {
   "codemirror_mode": {
    "name": "ipython",
    "version": 3
   },
   "file_extension": ".py",
   "mimetype": "text/x-python",
   "name": "python",
   "nbconvert_exporter": "python",
   "pygments_lexer": "ipython3",
   "version": "3.10.13"
  },
  "orig_nbformat": 4
 },
 "nbformat": 4,
 "nbformat_minor": 2
}
