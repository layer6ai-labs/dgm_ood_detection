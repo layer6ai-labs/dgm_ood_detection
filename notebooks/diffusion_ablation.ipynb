{
 "cells": [
  {
   "cell_type": "markdown",
   "metadata": {},
   "source": [
    "# Ablation on VE-SDE versus VP-SDE\n",
    "\n"
   ]
  },
  {
   "cell_type": "code",
   "execution_count": 2,
   "metadata": {},
   "outputs": [
    {
     "name": "stdout",
     "output_type": "stream",
     "text": [
      "The autoreload extension is already loaded. To reload it, use:\n",
      "  %reload_ext autoreload\n"
     ]
    },
    {
     "name": "stderr",
     "output_type": "stream",
     "text": [
      "5/6: 100%|██████████| 4/4 [00:07<00:00,  1.96s/it]\n"
     ]
    }
   ],
   "source": [
    "%load_ext autoreload\n",
    "\n",
    "%autoreload 2\n",
    "from utils import parse_table, read_csv\n",
    "import pandas as pd\n",
    "import numpy as np\n",
    "\n",
    "from pretty import plot_kde, ColorTheme\n",
    "\n",
    "\n",
    "def get_scatter(in_distr, ood, all_tasks): \n",
    "    global likelihood_generated, lid_generated\n",
    "    global likelihood_in, lid_in\n",
    "    global likelihood_ood, lid_ood\n",
    "    in_vs_out = all_tasks[in_distr][ood]\n",
    "    likelihood_in = in_vs_out[in_vs_out['name'] == 'test']['log-likelihood'].values\n",
    "    lid_in = in_vs_out[in_vs_out['name'] == 'test']['LID'].values\n",
    "    likelihood_ood = in_vs_out[in_vs_out['name'] == 'ood']['log-likelihood'].values\n",
    "    lid_ood = in_vs_out[in_vs_out['name'] == 'ood']['LID'].values\n",
    "\n",
    "pairs = [\n",
    "    ('mnist', 'fashion-mnist'),\n",
    "    ('mnist', 'omniglot'),\n",
    "    ('fashion-mnist', 'mnist'),\n",
    "    ('fashion-mnist', 'omniglot'),\n",
    "    ('cifar10', 'svhn'),\n",
    "    ('cifar10', 'celeba-small'),\n",
    "    ('svhn', 'cifar10'),\n",
    "    ('svhn', 'celeba-small'),\n",
    "]\n",
    "\n",
    "df = read_csv('ve_vp_sde_ablation')\n",
    "all_tasks = parse_table(df)\n",
    "\n"
   ]
  },
  {
   "cell_type": "code",
   "execution_count": 3,
   "metadata": {},
   "outputs": [
    {
     "name": "stderr",
     "output_type": "stream",
     "text": [
      " 12%|█▎        | 1/8 [00:01<00:08,  1.28s/it]"
     ]
    },
    {
     "name": "stdout",
     "output_type": "stream",
     "text": [
      "mnist (vs) fashion-mnist 0.9993753399999997 0.9993753399999997\n"
     ]
    },
    {
     "name": "stderr",
     "output_type": "stream",
     "text": [
      " 25%|██▌       | 2/8 [00:01<00:05,  1.05it/s]"
     ]
    },
    {
     "name": "stdout",
     "output_type": "stream",
     "text": [
      "mnist (vs) omniglot 0.9999704356846473 0.9999704356846473\n"
     ]
    },
    {
     "name": "stderr",
     "output_type": "stream",
     "text": [
      " 38%|███▊      | 3/8 [00:03<00:05,  1.09s/it]"
     ]
    },
    {
     "name": "stdout",
     "output_type": "stream",
     "text": [
      "fashion-mnist (vs) mnist 0.21087700000000048 0.8987160949999999\n"
     ]
    },
    {
     "name": "stderr",
     "output_type": "stream",
     "text": [
      " 50%|█████     | 4/8 [00:04<00:03,  1.02it/s]"
     ]
    },
    {
     "name": "stdout",
     "output_type": "stream",
     "text": [
      "fashion-mnist (vs) omniglot 0.9529961358921166 0.9540984180497923\n"
     ]
    },
    {
     "name": "stderr",
     "output_type": "stream",
     "text": [
      " 62%|██████▎   | 5/8 [00:05<00:03,  1.22s/it]"
     ]
    },
    {
     "name": "stdout",
     "output_type": "stream",
     "text": [
      "cifar10 (vs) svhn 0.08783075999999988 0.85535858\n"
     ]
    },
    {
     "name": "stderr",
     "output_type": "stream",
     "text": [
      " 75%|███████▌  | 6/8 [00:06<00:02,  1.08s/it]"
     ]
    },
    {
     "name": "stdout",
     "output_type": "stream",
     "text": [
      "cifar10 (vs) celeba-small 0.48548676470588215 0.48548676470588215\n"
     ]
    },
    {
     "name": "stderr",
     "output_type": "stream",
     "text": [
      " 88%|████████▊ | 7/8 [00:08<00:01,  1.27s/it]"
     ]
    },
    {
     "name": "stdout",
     "output_type": "stream",
     "text": [
      "svhn (vs) cifar10 0.9900200399999916 0.9900200399999916\n"
     ]
    },
    {
     "name": "stderr",
     "output_type": "stream",
     "text": [
      "100%|██████████| 8/8 [00:08<00:00,  1.12s/it]"
     ]
    },
    {
     "name": "stdout",
     "output_type": "stream",
     "text": [
      "svhn (vs) celeba-small 0.9978126050420154 0.9978126050420154\n"
     ]
    },
    {
     "name": "stderr",
     "output_type": "stream",
     "text": [
      "\n"
     ]
    }
   ],
   "source": [
    "from roc_analysis import get_roc_graph, get_convex_hull, get_auc\n",
    "from tqdm import tqdm\n",
    "\n",
    "\n",
    "for in_distr, ood in tqdm(pairs, total=len(pairs)):\n",
    "    get_scatter(in_distr, ood, all_tasks)\n",
    "    x_naive, y_naive = get_roc_graph(\n",
    "        pos_x = likelihood_in,\n",
    "        neg_x = likelihood_ood,\n",
    "        verbose=0,\n",
    "    )\n",
    "    x_curve, y_curve = get_convex_hull(x_naive, y_naive)\n",
    "    naive_auc = get_auc(x_curve, y_curve)\n",
    "    x_ours, y_ours = get_roc_graph(\n",
    "        pos_x = likelihood_in,\n",
    "        pos_y = lid_in,\n",
    "        neg_x = likelihood_ood,\n",
    "        neg_y = lid_ood,\n",
    "        compute_limit=10000,\n",
    "        verbose=0,\n",
    "    )\n",
    "    x_curve, y_curve = get_convex_hull(x_ours, y_ours)\n",
    "    our_auc = max(naive_auc, get_auc(x_curve, y_curve))\n",
    "    \n",
    "    print(f\"{in_distr} (vs) {ood}\", naive_auc, our_auc)"
   ]
  },
  {
   "cell_type": "code",
   "execution_count": 18,
   "metadata": {},
   "outputs": [],
   "source": [
    "from roc_analysis import get_roc_graph, get_convex_hull, get_auc\n",
    "from tqdm import tqdm\n",
    "\n",
    "def generate_table(compute_limit, all_tasks, verbose=1):\n",
    "    np.random.seed(111)\n",
    "    latex_table = \"\"\"\n",
    "    \\\\begin{tabularx}{\\\\textwidth}{l*{4}{Y}}\n",
    "    \\\\toprule\n",
    "    OOD Task Type & \\\\multicolumn{2}{c}{$A$-gen (vs) $B$}$^\\\\mathsection$ & \\\\multicolumn{2}{c}{$A$ (vs) $B$}$^\\dagger$ \\\\\\\\\n",
    "    \\\\cmidrule(r){2-3} \\\\cmidrule(lr){4-5}\n",
    "    \\\\leftcell{Dataset Pair \\\\\\\\$A$ (and) $B$}&  \\makecell{{\\scriptsize (AUC-ROC)} \\\\\\\\ Na\\\\\"ive Likelihood} &  \\makecell{{\\\\scriptsize (AUC-ROC)} \\\\\\\\ LID OOD (Ours)}&  \\\\makecell{{\\\\scriptsize (AUC-ROC)} \\\\\\\\ Na\\\\\"ive Likelihood} &  \\\\makecell{{\\\\scriptsize (AUC-ROC)} \\\\\\\\ LID OOD (Ours)}  \\\\\\\\\n",
    "    \\\\midrule\n",
    "    \"\"\"\n",
    "\n",
    "    \n",
    "    for iii, type in enumerate(['grayscale', 'rgb']):\n",
    "\n",
    "        if verbose > 1:\n",
    "            print(\"---------- Grayscale ----------\" if type == 'grayscale' else \"---------- RGB ----------\")\n",
    "        pairs = []\n",
    "        for in_distr in all_tasks[type].keys():\n",
    "            for ood in all_tasks[type].keys():\n",
    "                if in_distr != ood:\n",
    "                    pairs.append((in_distr, ood))\n",
    "        rng = pairs\n",
    "        if verbose == 1:\n",
    "            rng = tqdm(rng, desc=\"Grayscale data pairs\")\n",
    "        for in_distr, ood in rng:\n",
    "            if verbose > 1:\n",
    "                print(f\"\\n\\n== {in_distr} vs {ood} ==\")\n",
    "            get_scatter(in_distr, ood, type, all_tasks)\n",
    "            latex_table += f\"{{\\\\scriptsize {print_mapping[in_distr]} (and) {print_mapping[ood]}}} & \"\n",
    "            x_naive, y_naive = get_roc_graph(\n",
    "                pos_x = likelihood_generated,\n",
    "                neg_x = likelihood_ood,\n",
    "                verbose=0,\n",
    "            )\n",
    "            x_curve, y_curve = get_convex_hull(x_naive, y_naive)\n",
    "            naive_auc = get_auc(x_curve, y_curve)\n",
    "            formatted_auc1 = \"{:.3f}\".format(naive_auc)\n",
    "            if verbose > 1:\n",
    "                print(f\"(Generated) Naive likelihood AUC = {formatted_auc1}\")\n",
    "            x_ours, y_ours = get_roc_graph(\n",
    "                pos_x = likelihood_generated,\n",
    "                pos_y = lid_generated,\n",
    "                neg_x = likelihood_ood,\n",
    "                neg_y = lid_ood,\n",
    "                compute_limit=compute_limit,\n",
    "                verbose=0,\n",
    "            )\n",
    "            x_curve, y_curve = get_convex_hull(x_ours, y_ours)\n",
    "            our_auc = max(naive_auc, get_auc(x_curve, y_curve))\n",
    "            formatted_auc2 = \"{:.3f}\".format(our_auc)\n",
    "            improvement = (our_auc - naive_auc)/naive_auc * 100\n",
    "            if improvement > 10:\n",
    "                latex_table += f\"$\\\\mathbf{{{formatted_auc1}}}$ & $\\\\mathbf{{{formatted_auc2}}}$ &\"\n",
    "            else:\n",
    "                latex_table += f\"${formatted_auc1}$ & ${formatted_auc2}$ &\"\n",
    "            if verbose > 1:\n",
    "                print(\"(Generated) LID-OOD AUC = {:.3f}\".format(our_auc))\n",
    "                \n",
    "                \n",
    "            x_naive, y_naive = get_roc_graph(\n",
    "                pos_x = likelihood_in,\n",
    "                neg_x = likelihood_ood,\n",
    "                verbose=0,\n",
    "            )\n",
    "            x_curve, y_curve = get_convex_hull(x_naive, y_naive)\n",
    "            naive_auc = get_auc(x_curve, y_curve)\n",
    "            formatted_auc1 = \"{:.3f}\".format(naive_auc)\n",
    "            if verbose > 1:\n",
    "                print(f\"Naive likelihood AUC = {formatted_auc1}\")\n",
    "            x_ours, y_ours = get_roc_graph(\n",
    "                pos_x = likelihood_in,\n",
    "                pos_y = lid_in,\n",
    "                neg_x = likelihood_ood,\n",
    "                neg_y = lid_ood,\n",
    "                compute_limit=compute_limit,\n",
    "                verbose=0,\n",
    "            )\n",
    "            x_curve, y_curve = get_convex_hull(x_ours, y_ours)\n",
    "            \n",
    "            our_auc = max(naive_auc, get_auc(x_curve, y_curve))\n",
    "            formatted_auc2 = \"{:.3f}\".format(our_auc)\n",
    "            improvement = (our_auc - naive_auc)/naive_auc * 100\n",
    "            if improvement > 10:\n",
    "                latex_table += f\"$\\\\mathbf{{{formatted_auc1}}}$ & $\\\\mathbf{{{formatted_auc2}}}$ \\\\\\\\ \\n\"\n",
    "            else:\n",
    "                latex_table += f\"${formatted_auc1}$ & ${formatted_auc2}$ \\\\\\\\ \\n\"\n",
    "            if verbose > 1:\n",
    "                print(\"(Generated) LID-OOD AUC = {:.3f}\".format(our_auc))\n",
    "                \n",
    "        if iii == 0:\n",
    "            latex_table += '\\\\midrule \\n\\n'\n",
    "\n",
    "    \n",
    "    latex_table += \"\"\"\n",
    "    \\\\bottomrule\n",
    "    \\\\end{tabularx}\n",
    "    \"\"\"          \n",
    "    return latex_table"
   ]
  },
  {
   "cell_type": "code",
   "execution_count": 13,
   "metadata": {},
   "outputs": [
    {
     "name": "stderr",
     "output_type": "stream",
     "text": [
      "3/5: 100%|██████████| 4/4 [00:03<00:00,  1.28it/s]\n",
      "5/7: 100%|██████████| 5/5 [00:14<00:00,  2.98s/it]\n"
     ]
    }
   ],
   "source": [
    "df = read_csv('grayscale_LID_vs_likelihood_diffusion_lpca.csv')\n",
    "all_tasks_grayscale = parse_table(df)\n",
    "df = read_csv('rgb_LID_vs_likelihood_diffusion_lpca.csv')\n",
    "all_tasks_rgb = parse_table(df)\n",
    "\n",
    "all_tasks = {\n",
    "    'grayscale': all_tasks_grayscale,\n",
    "    'rgb': all_tasks_rgb,\n",
    "}"
   ]
  },
  {
   "cell_type": "code",
   "execution_count": 19,
   "metadata": {},
   "outputs": [
    {
     "name": "stdout",
     "output_type": "stream",
     "text": [
      "---------- Grayscale ----------\n",
      "\n",
      "\n",
      "== mnist vs emnist ==\n",
      "(Generated) Naive likelihood AUC = 0.000\n"
     ]
    },
    {
     "name": "stderr",
     "output_type": "stream",
     "text": [
      "/tmp/ipykernel_1107011/1929255252.py:54: RuntimeWarning: divide by zero encountered in scalar divide\n",
      "  improvement = (our_auc - naive_auc)/naive_auc * 100\n"
     ]
    },
    {
     "name": "stdout",
     "output_type": "stream",
     "text": [
      "(Generated) LID-OOD AUC = 1.000\n",
      "Naive likelihood AUC = 0.846\n",
      "(Generated) LID-OOD AUC = 0.846\n",
      "\n",
      "\n",
      "== mnist vs fashion-mnist ==\n",
      "(Generated) Naive likelihood AUC = 0.000\n",
      "(Generated) LID-OOD AUC = 0.561\n",
      "Naive likelihood AUC = 0.996\n",
      "(Generated) LID-OOD AUC = 0.996\n",
      "\n",
      "\n",
      "== mnist vs omniglot ==\n",
      "(Generated) Naive likelihood AUC = 0.000\n",
      "(Generated) LID-OOD AUC = 0.888\n",
      "Naive likelihood AUC = 1.000\n",
      "(Generated) LID-OOD AUC = 1.000\n",
      "\n",
      "\n",
      "== emnist vs mnist ==\n",
      "(Generated) Naive likelihood AUC = 0.000\n",
      "(Generated) LID-OOD AUC = 1.000\n",
      "Naive likelihood AUC = 0.830\n",
      "(Generated) LID-OOD AUC = 0.830\n",
      "\n",
      "\n",
      "== emnist vs fashion-mnist ==\n",
      "(Generated) Naive likelihood AUC = 0.000\n",
      "(Generated) LID-OOD AUC = 0.895\n",
      "Naive likelihood AUC = 0.999\n",
      "(Generated) LID-OOD AUC = 0.999\n",
      "\n",
      "\n",
      "== emnist vs omniglot ==\n",
      "(Generated) Naive likelihood AUC = 0.000\n",
      "(Generated) LID-OOD AUC = 1.000\n",
      "Naive likelihood AUC = 1.000\n",
      "(Generated) LID-OOD AUC = 1.000\n",
      "\n",
      "\n",
      "== fashion-mnist vs mnist ==\n",
      "(Generated) Naive likelihood AUC = 0.000\n",
      "(Generated) LID-OOD AUC = 1.000\n",
      "Naive likelihood AUC = 0.240\n",
      "(Generated) LID-OOD AUC = 0.846\n",
      "\n",
      "\n",
      "== fashion-mnist vs emnist ==\n",
      "(Generated) Naive likelihood AUC = 0.000\n",
      "(Generated) LID-OOD AUC = 1.000\n",
      "Naive likelihood AUC = 0.339\n",
      "(Generated) LID-OOD AUC = 0.568\n",
      "\n",
      "\n",
      "== fashion-mnist vs omniglot ==\n",
      "(Generated) Naive likelihood AUC = 0.000\n",
      "(Generated) LID-OOD AUC = 1.000\n",
      "Naive likelihood AUC = 0.952\n",
      "(Generated) LID-OOD AUC = 0.959\n",
      "\n",
      "\n",
      "== omniglot vs mnist ==\n",
      "(Generated) Naive likelihood AUC = 0.000\n",
      "(Generated) LID-OOD AUC = 0.558\n",
      "Naive likelihood AUC = 0.995\n",
      "(Generated) LID-OOD AUC = 0.995\n",
      "\n",
      "\n",
      "== omniglot vs emnist ==\n",
      "(Generated) Naive likelihood AUC = 0.000\n",
      "(Generated) LID-OOD AUC = 0.082\n",
      "Naive likelihood AUC = 1.000\n",
      "(Generated) LID-OOD AUC = 1.000\n",
      "\n",
      "\n",
      "== omniglot vs fashion-mnist ==\n",
      "(Generated) Naive likelihood AUC = 0.000\n",
      "(Generated) LID-OOD AUC = 0.001\n",
      "Naive likelihood AUC = 1.000\n",
      "(Generated) LID-OOD AUC = 1.000\n",
      "---------- RGB ----------\n",
      "\n",
      "\n",
      "== svhn vs tiny-imagenet ==\n",
      "(Generated) Naive likelihood AUC = 0.768\n",
      "(Generated) LID-OOD AUC = 0.778\n",
      "Naive likelihood AUC = 0.996\n",
      "(Generated) LID-OOD AUC = 0.996\n",
      "\n",
      "\n",
      "== svhn vs cifar10 ==\n",
      "(Generated) Naive likelihood AUC = 0.774\n",
      "(Generated) LID-OOD AUC = 0.782\n",
      "Naive likelihood AUC = 0.996\n",
      "(Generated) LID-OOD AUC = 0.996\n",
      "\n",
      "\n",
      "== svhn vs celeba-small ==\n",
      "(Generated) Naive likelihood AUC = 0.608\n",
      "(Generated) LID-OOD AUC = 0.629\n",
      "Naive likelihood AUC = 0.996\n",
      "(Generated) LID-OOD AUC = 0.996\n",
      "\n",
      "\n",
      "== svhn vs cifar100 ==\n",
      "(Generated) Naive likelihood AUC = 0.773\n",
      "(Generated) LID-OOD AUC = 0.782\n",
      "Naive likelihood AUC = 0.996\n",
      "(Generated) LID-OOD AUC = 0.996\n",
      "\n",
      "\n",
      "== tiny-imagenet vs svhn ==\n",
      "(Generated) Naive likelihood AUC = 0.000\n",
      "(Generated) LID-OOD AUC = 0.996\n",
      "Naive likelihood AUC = 0.219\n",
      "(Generated) LID-OOD AUC = 0.951\n",
      "\n",
      "\n",
      "== tiny-imagenet vs cifar10 ==\n",
      "(Generated) Naive likelihood AUC = 0.172\n",
      "(Generated) LID-OOD AUC = 0.708\n",
      "Naive likelihood AUC = 0.882\n",
      "(Generated) LID-OOD AUC = 0.908\n",
      "\n",
      "\n",
      "== tiny-imagenet vs celeba-small ==\n",
      "(Generated) Naive likelihood AUC = 0.012\n",
      "(Generated) LID-OOD AUC = 0.919\n",
      "Naive likelihood AUC = 0.895\n",
      "(Generated) LID-OOD AUC = 0.895\n",
      "\n",
      "\n",
      "== tiny-imagenet vs cifar100 ==\n",
      "(Generated) Naive likelihood AUC = 0.190\n",
      "(Generated) LID-OOD AUC = 0.701\n",
      "Naive likelihood AUC = 0.880\n",
      "(Generated) LID-OOD AUC = 0.910\n",
      "\n",
      "\n",
      "== cifar10 vs svhn ==\n",
      "(Generated) Naive likelihood AUC = 0.000\n",
      "(Generated) LID-OOD AUC = 0.987\n",
      "Naive likelihood AUC = 0.064\n",
      "(Generated) LID-OOD AUC = 0.944\n",
      "\n",
      "\n",
      "== cifar10 vs tiny-imagenet ==\n",
      "(Generated) Naive likelihood AUC = 0.065\n",
      "(Generated) LID-OOD AUC = 0.675\n",
      "Naive likelihood AUC = 0.452\n",
      "(Generated) LID-OOD AUC = 0.458\n",
      "\n",
      "\n",
      "== cifar10 vs celeba-small ==\n",
      "(Generated) Naive likelihood AUC = 0.000\n",
      "(Generated) LID-OOD AUC = 0.847\n",
      "Naive likelihood AUC = 0.360\n",
      "(Generated) LID-OOD AUC = 0.648\n",
      "\n",
      "\n",
      "== cifar10 vs cifar100 ==\n",
      "(Generated) Naive likelihood AUC = 0.120\n",
      "(Generated) LID-OOD AUC = 0.688\n",
      "Naive likelihood AUC = 0.528\n",
      "(Generated) LID-OOD AUC = 0.560\n",
      "\n",
      "\n",
      "== celeba-small vs svhn ==\n",
      "(Generated) Naive likelihood AUC = 0.001\n",
      "(Generated) LID-OOD AUC = 0.985\n",
      "Naive likelihood AUC = 0.087\n",
      "(Generated) LID-OOD AUC = 0.747\n",
      "\n",
      "\n",
      "== celeba-small vs tiny-imagenet ==\n",
      "(Generated) Naive likelihood AUC = 0.130\n",
      "(Generated) LID-OOD AUC = 0.716\n",
      "Naive likelihood AUC = 0.844\n",
      "(Generated) LID-OOD AUC = 0.845\n",
      "\n",
      "\n",
      "== celeba-small vs cifar10 ==\n",
      "(Generated) Naive likelihood AUC = 0.164\n",
      "(Generated) LID-OOD AUC = 0.702\n",
      "Naive likelihood AUC = 0.877\n",
      "(Generated) LID-OOD AUC = 0.878\n",
      "\n",
      "\n",
      "== celeba-small vs cifar100 ==\n",
      "(Generated) Naive likelihood AUC = 0.176\n",
      "(Generated) LID-OOD AUC = 0.700\n",
      "Naive likelihood AUC = 0.876\n",
      "(Generated) LID-OOD AUC = 0.878\n",
      "\n",
      "\n",
      "== cifar100 vs svhn ==\n",
      "(Generated) Naive likelihood AUC = 0.000\n",
      "(Generated) LID-OOD AUC = 0.994\n",
      "Naive likelihood AUC = 0.045\n",
      "(Generated) LID-OOD AUC = 0.945\n",
      "\n",
      "\n",
      "== cifar100 vs tiny-imagenet ==\n",
      "(Generated) Naive likelihood AUC = 0.039\n",
      "(Generated) LID-OOD AUC = 0.766\n",
      "Naive likelihood AUC = 0.416\n",
      "(Generated) LID-OOD AUC = 0.465\n",
      "\n",
      "\n",
      "== cifar100 vs cifar10 ==\n",
      "(Generated) Naive likelihood AUC = 0.052\n",
      "(Generated) LID-OOD AUC = 0.791\n",
      "Naive likelihood AUC = 0.470\n",
      "(Generated) LID-OOD AUC = 0.504\n",
      "\n",
      "\n",
      "== cifar100 vs celeba-small ==\n",
      "(Generated) Naive likelihood AUC = 0.000\n",
      "(Generated) LID-OOD AUC = 0.902\n",
      "Naive likelihood AUC = 0.340\n",
      "(Generated) LID-OOD AUC = 0.663\n"
     ]
    }
   ],
   "source": [
    "\n",
    "\n",
    "latex_table = generate_table(100000, all_tasks=all_tasks, verbose=2)\n",
    "with open(\"generated_tabulars/all_boosting_diffusion.tex\", 'w') as f:\n",
    "    f.write(latex_table)\n",
    "    "
   ]
  },
  {
   "cell_type": "code",
   "execution_count": null,
   "metadata": {},
   "outputs": [],
   "source": []
  }
 ],
 "metadata": {
  "kernelspec": {
   "display_name": "ood-detection",
   "language": "python",
   "name": "python3"
  },
  "language_info": {
   "codemirror_mode": {
    "name": "ipython",
    "version": 3
   },
   "file_extension": ".py",
   "mimetype": "text/x-python",
   "name": "python",
   "nbconvert_exporter": "python",
   "pygments_lexer": "ipython3",
   "version": "3.10.13"
  }
 },
 "nbformat": 4,
 "nbformat_minor": 2
}
